{
 "cells": [
  {
   "cell_type": "code",
   "execution_count": 1,
   "metadata": {},
   "outputs": [],
   "source": [
    "# in this notebook I will clean the original parks dataset"
   ]
  },
  {
   "cell_type": "code",
   "execution_count": 2,
   "metadata": {},
   "outputs": [],
   "source": [
    "import numpy as np\n",
    "import pandas as pd"
   ]
  },
  {
   "cell_type": "code",
   "execution_count": 3,
   "metadata": {},
   "outputs": [],
   "source": [
    "# loading raw data and parsing dates:\n",
    "\n",
    "raw_data = pd.read_csv(\"Social_Distancing__Parks_Crowds_Data_original.csv\",parse_dates = ['encounter_timestamp'])"
   ]
  },
  {
   "cell_type": "code",
   "execution_count": 4,
   "metadata": {},
   "outputs": [
    {
     "data": {
      "text/html": [
       "<div>\n",
       "<style scoped>\n",
       "    .dataframe tbody tr th:only-of-type {\n",
       "        vertical-align: middle;\n",
       "    }\n",
       "\n",
       "    .dataframe tbody tr th {\n",
       "        vertical-align: top;\n",
       "    }\n",
       "\n",
       "    .dataframe thead th {\n",
       "        text-align: right;\n",
       "    }\n",
       "</style>\n",
       "<table border=\"1\" class=\"dataframe\">\n",
       "  <thead>\n",
       "    <tr style=\"text-align: right;\">\n",
       "      <th></th>\n",
       "      <th>encounter_timestamp</th>\n",
       "      <th>park_area_id</th>\n",
       "      <th>park_district</th>\n",
       "      <th>park_borough</th>\n",
       "      <th>patroncount</th>\n",
       "      <th>in_playground</th>\n",
       "      <th>action_taken</th>\n",
       "      <th>amenity</th>\n",
       "    </tr>\n",
       "  </thead>\n",
       "  <tbody>\n",
       "    <tr>\n",
       "      <th>0</th>\n",
       "      <td>2020-07-07 14:33:23</td>\n",
       "      <td>X179</td>\n",
       "      <td>X-02</td>\n",
       "      <td>Bronx</td>\n",
       "      <td>50</td>\n",
       "      <td>True</td>\n",
       "      <td>Approached the crowd; they ignored the employee</td>\n",
       "      <td>Basketball court</td>\n",
       "    </tr>\n",
       "    <tr>\n",
       "      <th>1</th>\n",
       "      <td>2020-07-05 10:40:24</td>\n",
       "      <td>B247</td>\n",
       "      <td>B-18</td>\n",
       "      <td>Brooklyn</td>\n",
       "      <td>50</td>\n",
       "      <td>False</td>\n",
       "      <td>Approached the crowd; they ignored the employee</td>\n",
       "      <td>Baseball field</td>\n",
       "    </tr>\n",
       "    <tr>\n",
       "      <th>2</th>\n",
       "      <td>2020-07-04 12:56:31</td>\n",
       "      <td>B247</td>\n",
       "      <td>B-18</td>\n",
       "      <td>Brooklyn</td>\n",
       "      <td>20</td>\n",
       "      <td>False</td>\n",
       "      <td>Approached the crowd; they ignored the employee</td>\n",
       "      <td>Bench/sitting area</td>\n",
       "    </tr>\n",
       "    <tr>\n",
       "      <th>3</th>\n",
       "      <td>2020-07-03 22:16:52</td>\n",
       "      <td>Q377</td>\n",
       "      <td>Q-06</td>\n",
       "      <td>Queens</td>\n",
       "      <td>75</td>\n",
       "      <td>False</td>\n",
       "      <td>Did not approach the crowd; the crowd remains</td>\n",
       "      <td>Soccer field</td>\n",
       "    </tr>\n",
       "    <tr>\n",
       "      <th>4</th>\n",
       "      <td>2020-07-02 15:11:30</td>\n",
       "      <td>B018</td>\n",
       "      <td>B-18</td>\n",
       "      <td>Brooklyn</td>\n",
       "      <td>75</td>\n",
       "      <td>False</td>\n",
       "      <td>Approached the crowd; they ignored the employee</td>\n",
       "      <td>Open field/multi-purpose play area</td>\n",
       "    </tr>\n",
       "    <tr>\n",
       "      <th>5</th>\n",
       "      <td>2020-07-01 11:35:04</td>\n",
       "      <td>X039-ZN01</td>\n",
       "      <td>X-15</td>\n",
       "      <td>Bronx</td>\n",
       "      <td>200</td>\n",
       "      <td>False</td>\n",
       "      <td>Did not approach the crowd; the crowd remains</td>\n",
       "      <td>Track/field area</td>\n",
       "    </tr>\n",
       "    <tr>\n",
       "      <th>6</th>\n",
       "      <td>2020-06-30 08:15:21</td>\n",
       "      <td>M029-01</td>\n",
       "      <td>M-12</td>\n",
       "      <td>Manhattan</td>\n",
       "      <td>12</td>\n",
       "      <td>True</td>\n",
       "      <td>Did not approach the crowd; the crowd remains</td>\n",
       "      <td>Adult fitness equipment</td>\n",
       "    </tr>\n",
       "    <tr>\n",
       "      <th>7</th>\n",
       "      <td>2020-06-29 11:15:32</td>\n",
       "      <td>Q357B01</td>\n",
       "      <td>Q-06</td>\n",
       "      <td>Queens</td>\n",
       "      <td>1</td>\n",
       "      <td>False</td>\n",
       "      <td>Approached the crowd; they complied with instr...</td>\n",
       "      <td>Handall court</td>\n",
       "    </tr>\n",
       "    <tr>\n",
       "      <th>8</th>\n",
       "      <td>2020-06-29 07:35:49</td>\n",
       "      <td>M144-ZN04</td>\n",
       "      <td>M-03</td>\n",
       "      <td>Manhattan</td>\n",
       "      <td>15</td>\n",
       "      <td>False</td>\n",
       "      <td>Approached the crowd; they ignored the employee</td>\n",
       "      <td>Baseball field</td>\n",
       "    </tr>\n",
       "    <tr>\n",
       "      <th>9</th>\n",
       "      <td>2020-06-28 20:43:04</td>\n",
       "      <td>X092-09</td>\n",
       "      <td>X-13</td>\n",
       "      <td>Bronx</td>\n",
       "      <td>50</td>\n",
       "      <td>True</td>\n",
       "      <td>Did not approach the crowd; the crowd remains</td>\n",
       "      <td>Playground</td>\n",
       "    </tr>\n",
       "  </tbody>\n",
       "</table>\n",
       "</div>"
      ],
      "text/plain": [
       "  encounter_timestamp park_area_id park_district park_borough  patroncount  \\\n",
       "0 2020-07-07 14:33:23         X179          X-02        Bronx           50   \n",
       "1 2020-07-05 10:40:24         B247          B-18     Brooklyn           50   \n",
       "2 2020-07-04 12:56:31         B247          B-18     Brooklyn           20   \n",
       "3 2020-07-03 22:16:52         Q377          Q-06       Queens           75   \n",
       "4 2020-07-02 15:11:30         B018          B-18     Brooklyn           75   \n",
       "5 2020-07-01 11:35:04    X039-ZN01          X-15        Bronx          200   \n",
       "6 2020-06-30 08:15:21      M029-01          M-12    Manhattan           12   \n",
       "7 2020-06-29 11:15:32      Q357B01          Q-06       Queens            1   \n",
       "8 2020-06-29 07:35:49    M144-ZN04          M-03    Manhattan           15   \n",
       "9 2020-06-28 20:43:04      X092-09          X-13        Bronx           50   \n",
       "\n",
       "   in_playground                                       action_taken  \\\n",
       "0           True    Approached the crowd; they ignored the employee   \n",
       "1          False    Approached the crowd; they ignored the employee   \n",
       "2          False    Approached the crowd; they ignored the employee   \n",
       "3          False      Did not approach the crowd; the crowd remains   \n",
       "4          False    Approached the crowd; they ignored the employee   \n",
       "5          False      Did not approach the crowd; the crowd remains   \n",
       "6           True      Did not approach the crowd; the crowd remains   \n",
       "7          False  Approached the crowd; they complied with instr...   \n",
       "8          False    Approached the crowd; they ignored the employee   \n",
       "9           True      Did not approach the crowd; the crowd remains   \n",
       "\n",
       "                              amenity  \n",
       "0                    Basketball court  \n",
       "1                      Baseball field  \n",
       "2                  Bench/sitting area  \n",
       "3                        Soccer field  \n",
       "4  Open field/multi-purpose play area  \n",
       "5                    Track/field area  \n",
       "6             Adult fitness equipment  \n",
       "7                       Handall court  \n",
       "8                      Baseball field  \n",
       "9                          Playground  "
      ]
     },
     "execution_count": 4,
     "metadata": {},
     "output_type": "execute_result"
    }
   ],
   "source": [
    "# inspecting data and making sure parse dates worked properly:\n",
    "\n",
    "raw_data.head(10)"
   ]
  },
  {
   "cell_type": "code",
   "execution_count": 5,
   "metadata": {},
   "outputs": [],
   "source": [
    "# deleting any rows that contain a gathering of less than 3 ppl or over 50 ppl\n",
    "# (an employee cannot count and/or approach a gathering of more than 50)"
   ]
  },
  {
   "cell_type": "code",
   "execution_count": 6,
   "metadata": {},
   "outputs": [
    {
     "name": "stdout",
     "output_type": "stream",
     "text": [
      "<class 'pandas.core.frame.DataFrame'>\n",
      "RangeIndex: 1869 entries, 0 to 1868\n",
      "Data columns (total 8 columns):\n",
      " #   Column               Non-Null Count  Dtype         \n",
      "---  ------               --------------  -----         \n",
      " 0   encounter_timestamp  1869 non-null   datetime64[ns]\n",
      " 1   park_area_id         1869 non-null   object        \n",
      " 2   park_district        1869 non-null   object        \n",
      " 3   park_borough         1869 non-null   object        \n",
      " 4   patroncount          1869 non-null   int64         \n",
      " 5   in_playground        1869 non-null   bool          \n",
      " 6   action_taken         1869 non-null   object        \n",
      " 7   amenity              1182 non-null   object        \n",
      "dtypes: bool(1), datetime64[ns](1), int64(1), object(5)\n",
      "memory usage: 104.2+ KB\n"
     ]
    }
   ],
   "source": [
    "# Checking data types for each column:\n",
    "\n",
    "raw_data.info()"
   ]
  },
  {
   "cell_type": "code",
   "execution_count": 7,
   "metadata": {},
   "outputs": [
    {
     "data": {
      "text/plain": [
       "(119, 244)"
      ]
     },
     "execution_count": 7,
     "metadata": {},
     "output_type": "execute_result"
    }
   ],
   "source": [
    "# Checking the number of observations that need to be dropped:\n",
    "\n",
    "(raw_data['patroncount'] < 3).sum(), (raw_data['patroncount'] > 51).sum()"
   ]
  },
  {
   "cell_type": "code",
   "execution_count": 8,
   "metadata": {},
   "outputs": [
    {
     "data": {
      "text/plain": [
       "(6.367041198501873, 13.055109684323169)"
      ]
     },
     "execution_count": 8,
     "metadata": {},
     "output_type": "execute_result"
    }
   ],
   "source": [
    "# Checking the proportion of observations that need to be dropped:\n",
    "\n",
    "(raw_data['patroncount'] < 3).sum()/len(raw_data) * 100, (raw_data['patroncount'] > 51).sum()/len(raw_data) * 100"
   ]
  },
  {
   "cell_type": "code",
   "execution_count": 9,
   "metadata": {},
   "outputs": [],
   "source": [
    "# 6% were gathering of less than 3 ppl\n",
    "# 13% were gathering of more than 50 ppl"
   ]
  },
  {
   "cell_type": "code",
   "execution_count": 10,
   "metadata": {},
   "outputs": [
    {
     "name": "stdout",
     "output_type": "stream",
     "text": [
      "count     244.00000\n",
      "mean      165.52459\n",
      "std       399.46138\n",
      "min        53.00000\n",
      "25%        75.00000\n",
      "50%       100.00000\n",
      "75%       200.00000\n",
      "max      6000.00000\n",
      "Name: patroncount, dtype: float64\n",
      "Open field/multi-purpose play area    43\n",
      "Walking path                          33\n",
      "Soccer field                          30\n",
      "Track/field area                      28\n",
      "Baseball field                        27\n",
      "Playground                            13\n",
      "Bench/sitting area                    11\n",
      "Adult fitness equipment                9\n",
      "Basketball court                       6\n",
      "Handall court                          1\n",
      "Name: amenity, dtype: int64\n"
     ]
    }
   ],
   "source": [
    "# Checking what are these gatherings of over 50 ppl:\n",
    "\n",
    "print(raw_data['patroncount'][raw_data['patroncount'] > 51].describe()),\n",
    "print(raw_data[raw_data['patroncount'] > 51]['amenity'].value_counts())"
   ]
  },
  {
   "cell_type": "code",
   "execution_count": 11,
   "metadata": {},
   "outputs": [],
   "source": [
    "# dropping too samll and too big gatherings:\n",
    "\n",
    "data = raw_data[(raw_data['patroncount'] < 51) & \n",
    "                (raw_data['patroncount'] > 2) ] "
   ]
  },
  {
   "cell_type": "code",
   "execution_count": 12,
   "metadata": {},
   "outputs": [
    {
     "data": {
      "text/plain": [
       "(1506, 1869)"
      ]
     },
     "execution_count": 12,
     "metadata": {},
     "output_type": "execute_result"
    }
   ],
   "source": [
    "# Verifying that the new dataset length makes sense:\n",
    "\n",
    "len(data), len(raw_data)"
   ]
  },
  {
   "cell_type": "code",
   "execution_count": 13,
   "metadata": {},
   "outputs": [
    {
     "data": {
      "text/plain": [
       "Queens           35.856574\n",
       "Manhattan        24.435591\n",
       "Brooklyn         14.741036\n",
       "Bronx            14.010624\n",
       "Staten Island    10.956175\n",
       "Name: park_borough, dtype: float64"
      ]
     },
     "execution_count": 13,
     "metadata": {},
     "output_type": "execute_result"
    }
   ],
   "source": [
    "# checking distribution of cases by borough:\n",
    "\n",
    "data['park_borough'].value_counts()/len(data) * 100"
   ]
  },
  {
   "cell_type": "code",
   "execution_count": 14,
   "metadata": {},
   "outputs": [],
   "source": [
    "# comparing the % of cases by borough to the % of population in each borough:\n",
    "# population data is from \"open nyc\": https://data.cityofnewyork.us/City-Government/2020-population/t8c6-3i7b\n",
    "\n",
    "pop = pd.read_csv(\"2020_population_original.csv\")"
   ]
  },
  {
   "cell_type": "code",
   "execution_count": 15,
   "metadata": {},
   "outputs": [
    {
     "data": {
      "text/plain": [
       "([2330295, 1638281, 2648452, 1446788, 487155], 8550971)"
      ]
     },
     "execution_count": 15,
     "metadata": {},
     "output_type": "execute_result"
    }
   ],
   "source": [
    "pop = pop.apply(lambda x: x.str.strip() if x.dtype == \"object\" else x)\n",
    "\n",
    "pop_queens = pop[(pop['Borough'] == 'Queens') &\n",
    "             (pop['Age Group'] == 'Total')]['2020'].values[0]\n",
    "pop_manhattan = pop[(pop['Borough'] == 'Manhattan') &\n",
    "                    (pop['Age Group'] == 'Total')]['2020'].values[0]\n",
    "pop_brooklyn = pop[(pop['Borough'] == 'Brooklyn') &\n",
    "                   (pop['Age Group'] == 'Total')]['2020'].values[0]\n",
    "pop_bronx = pop[(pop['Borough'] == 'Bronx') &\n",
    "                (pop['Age Group'] == 'Total')]['2020'].values[0]\n",
    "pop_si = pop[(pop['Borough'] == 'Staten Island') &\n",
    "             (pop['Age Group'] == 'Total')]['2020'].values[0]\n",
    "\n",
    "\n",
    "pop_by_borough = [pop_queens,pop_manhattan,pop_brooklyn,pop_bronx,pop_si,]\n",
    "total_pop = np.array(pop_by_borough).sum()\n",
    "pop_by_borough, total_pop\n"
   ]
  },
  {
   "cell_type": "code",
   "execution_count": 16,
   "metadata": {},
   "outputs": [
    {
     "data": {
      "text/plain": [
       "Queens           -8.604756\n",
       "Manhattan        -5.276586\n",
       "Brooklyn         16.231493\n",
       "Bronx             2.908951\n",
       "Staten Island    -5.259103\n",
       "Name: park_borough, dtype: float64"
      ]
     },
     "execution_count": 16,
     "metadata": {},
     "output_type": "execute_result"
    }
   ],
   "source": [
    "# comparing % of population by borough to % of cases by borough:\n",
    "\n",
    "pop_by_borough/total_pop * 100 - data['park_borough'].value_counts()/len(data) * 100 \n",
    "\n",
    "# about 10% change, not too bad. \n",
    "# Need to mention it in the discussion. Could be attributed to: \n",
    "                                                                #1. more policing (more employees)\n",
    "                                                                #2. change in population prefrences\n",
    "                                                                #3. more parks available "
   ]
  },
  {
   "cell_type": "code",
   "execution_count": 17,
   "metadata": {},
   "outputs": [
    {
     "data": {
      "text/html": [
       "<div>\n",
       "<style scoped>\n",
       "    .dataframe tbody tr th:only-of-type {\n",
       "        vertical-align: middle;\n",
       "    }\n",
       "\n",
       "    .dataframe tbody tr th {\n",
       "        vertical-align: top;\n",
       "    }\n",
       "\n",
       "    .dataframe thead th {\n",
       "        text-align: right;\n",
       "    }\n",
       "</style>\n",
       "<table border=\"1\" class=\"dataframe\">\n",
       "  <thead>\n",
       "    <tr style=\"text-align: right;\">\n",
       "      <th></th>\n",
       "      <th>encounter_timestamp</th>\n",
       "      <th>park_area_id</th>\n",
       "      <th>park_district</th>\n",
       "      <th>park_borough</th>\n",
       "      <th>patroncount</th>\n",
       "      <th>in_playground</th>\n",
       "      <th>action_taken</th>\n",
       "      <th>amenity</th>\n",
       "    </tr>\n",
       "  </thead>\n",
       "  <tbody>\n",
       "    <tr>\n",
       "      <th>0</th>\n",
       "      <td>2020-07-07 14:33:23</td>\n",
       "      <td>X179</td>\n",
       "      <td>X-02</td>\n",
       "      <td>Bronx</td>\n",
       "      <td>50</td>\n",
       "      <td>True</td>\n",
       "      <td>Approached the crowd; they ignored the employee</td>\n",
       "      <td>Basketball court</td>\n",
       "    </tr>\n",
       "    <tr>\n",
       "      <th>1</th>\n",
       "      <td>2020-07-05 10:40:24</td>\n",
       "      <td>B247</td>\n",
       "      <td>B-18</td>\n",
       "      <td>Brooklyn</td>\n",
       "      <td>50</td>\n",
       "      <td>False</td>\n",
       "      <td>Approached the crowd; they ignored the employee</td>\n",
       "      <td>Baseball field</td>\n",
       "    </tr>\n",
       "    <tr>\n",
       "      <th>2</th>\n",
       "      <td>2020-07-04 12:56:31</td>\n",
       "      <td>B247</td>\n",
       "      <td>B-18</td>\n",
       "      <td>Brooklyn</td>\n",
       "      <td>20</td>\n",
       "      <td>False</td>\n",
       "      <td>Approached the crowd; they ignored the employee</td>\n",
       "      <td>Bench/sitting area</td>\n",
       "    </tr>\n",
       "    <tr>\n",
       "      <th>6</th>\n",
       "      <td>2020-06-30 08:15:21</td>\n",
       "      <td>M029-01</td>\n",
       "      <td>M-12</td>\n",
       "      <td>Manhattan</td>\n",
       "      <td>12</td>\n",
       "      <td>True</td>\n",
       "      <td>Did not approach the crowd; the crowd remains</td>\n",
       "      <td>Adult fitness equipment</td>\n",
       "    </tr>\n",
       "    <tr>\n",
       "      <th>8</th>\n",
       "      <td>2020-06-29 07:35:49</td>\n",
       "      <td>M144-ZN04</td>\n",
       "      <td>M-03</td>\n",
       "      <td>Manhattan</td>\n",
       "      <td>15</td>\n",
       "      <td>False</td>\n",
       "      <td>Approached the crowd; they ignored the employee</td>\n",
       "      <td>Baseball field</td>\n",
       "    </tr>\n",
       "    <tr>\n",
       "      <th>...</th>\n",
       "      <td>...</td>\n",
       "      <td>...</td>\n",
       "      <td>...</td>\n",
       "      <td>...</td>\n",
       "      <td>...</td>\n",
       "      <td>...</td>\n",
       "      <td>...</td>\n",
       "      <td>...</td>\n",
       "    </tr>\n",
       "    <tr>\n",
       "      <th>1859</th>\n",
       "      <td>2020-08-03 19:27:33</td>\n",
       "      <td>M011</td>\n",
       "      <td>M-04</td>\n",
       "      <td>Manhattan</td>\n",
       "      <td>16</td>\n",
       "      <td>False</td>\n",
       "      <td>Did not approach the crowd; the crowd remains</td>\n",
       "      <td>Adult fitness equipment</td>\n",
       "    </tr>\n",
       "    <tr>\n",
       "      <th>1861</th>\n",
       "      <td>2020-08-18 13:38:03</td>\n",
       "      <td>M089</td>\n",
       "      <td>M-05</td>\n",
       "      <td>Manhattan</td>\n",
       "      <td>40</td>\n",
       "      <td>False</td>\n",
       "      <td>Did not approach the crowd; the crowd remains</td>\n",
       "      <td>Walking path</td>\n",
       "    </tr>\n",
       "    <tr>\n",
       "      <th>1863</th>\n",
       "      <td>2020-09-09 16:34:56</td>\n",
       "      <td>M011</td>\n",
       "      <td>M-04</td>\n",
       "      <td>Manhattan</td>\n",
       "      <td>6</td>\n",
       "      <td>False</td>\n",
       "      <td>Did not approach the crowd; the crowd remains</td>\n",
       "      <td>Soccer field</td>\n",
       "    </tr>\n",
       "    <tr>\n",
       "      <th>1865</th>\n",
       "      <td>2020-09-19 14:24:05</td>\n",
       "      <td>X039-ZN18</td>\n",
       "      <td>X-15A</td>\n",
       "      <td>Bronx</td>\n",
       "      <td>50</td>\n",
       "      <td>False</td>\n",
       "      <td>Approached the crowd; they complied with instr...</td>\n",
       "      <td>Open field/multi-purpose play area</td>\n",
       "    </tr>\n",
       "    <tr>\n",
       "      <th>1866</th>\n",
       "      <td>2020-10-06 14:45:46</td>\n",
       "      <td>M022</td>\n",
       "      <td>M-04</td>\n",
       "      <td>Manhattan</td>\n",
       "      <td>8</td>\n",
       "      <td>False</td>\n",
       "      <td>Did not approach the crowd; the crowd remains</td>\n",
       "      <td>Chess area</td>\n",
       "    </tr>\n",
       "  </tbody>\n",
       "</table>\n",
       "<p>1506 rows × 8 columns</p>\n",
       "</div>"
      ],
      "text/plain": [
       "     encounter_timestamp park_area_id park_district park_borough  patroncount  \\\n",
       "0    2020-07-07 14:33:23         X179          X-02        Bronx           50   \n",
       "1    2020-07-05 10:40:24         B247          B-18     Brooklyn           50   \n",
       "2    2020-07-04 12:56:31         B247          B-18     Brooklyn           20   \n",
       "6    2020-06-30 08:15:21      M029-01          M-12    Manhattan           12   \n",
       "8    2020-06-29 07:35:49    M144-ZN04          M-03    Manhattan           15   \n",
       "...                  ...          ...           ...          ...          ...   \n",
       "1859 2020-08-03 19:27:33         M011          M-04    Manhattan           16   \n",
       "1861 2020-08-18 13:38:03         M089          M-05    Manhattan           40   \n",
       "1863 2020-09-09 16:34:56         M011          M-04    Manhattan            6   \n",
       "1865 2020-09-19 14:24:05    X039-ZN18         X-15A        Bronx           50   \n",
       "1866 2020-10-06 14:45:46         M022          M-04    Manhattan            8   \n",
       "\n",
       "      in_playground                                       action_taken  \\\n",
       "0              True    Approached the crowd; they ignored the employee   \n",
       "1             False    Approached the crowd; they ignored the employee   \n",
       "2             False    Approached the crowd; they ignored the employee   \n",
       "6              True      Did not approach the crowd; the crowd remains   \n",
       "8             False    Approached the crowd; they ignored the employee   \n",
       "...             ...                                                ...   \n",
       "1859          False      Did not approach the crowd; the crowd remains   \n",
       "1861          False      Did not approach the crowd; the crowd remains   \n",
       "1863          False      Did not approach the crowd; the crowd remains   \n",
       "1865          False  Approached the crowd; they complied with instr...   \n",
       "1866          False      Did not approach the crowd; the crowd remains   \n",
       "\n",
       "                                 amenity  \n",
       "0                       Basketball court  \n",
       "1                         Baseball field  \n",
       "2                     Bench/sitting area  \n",
       "6                Adult fitness equipment  \n",
       "8                         Baseball field  \n",
       "...                                  ...  \n",
       "1859             Adult fitness equipment  \n",
       "1861                        Walking path  \n",
       "1863                        Soccer field  \n",
       "1865  Open field/multi-purpose play area  \n",
       "1866                          Chess area  \n",
       "\n",
       "[1506 rows x 8 columns]"
      ]
     },
     "execution_count": 17,
     "metadata": {},
     "output_type": "execute_result"
    }
   ],
   "source": [
    "data"
   ]
  },
  {
   "cell_type": "code",
   "execution_count": null,
   "metadata": {},
   "outputs": [],
   "source": []
  }
 ],
 "metadata": {
  "kernelspec": {
   "display_name": "Python 3",
   "language": "python",
   "name": "python3"
  },
  "language_info": {
   "codemirror_mode": {
    "name": "ipython",
    "version": 3
   },
   "file_extension": ".py",
   "mimetype": "text/x-python",
   "name": "python",
   "nbconvert_exporter": "python",
   "pygments_lexer": "ipython3",
   "version": "3.7.4"
  }
 },
 "nbformat": 4,
 "nbformat_minor": 4
}
