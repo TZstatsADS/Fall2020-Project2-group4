{
 "cells": [
  {
   "cell_type": "code",
   "execution_count": null,
   "metadata": {},
   "outputs": [],
   "source": [
    "# in this notebook I will clean the original parks dataset"
   ]
  },
  {
   "cell_type": "code",
   "execution_count": 2,
   "metadata": {},
   "outputs": [],
   "source": [
    "import numpy as np\n",
    "import pandas as pd"
   ]
  },
  {
   "cell_type": "code",
   "execution_count": 3,
   "metadata": {},
   "outputs": [],
   "source": [
    "# loading raw data and parsing dates:\n",
    "\n",
    "raw_data = pd.read_csv(\"../data/Social_Distancing__Parks_Crowds_Data_original.csv\",parse_dates = ['encounter_timestamp'])"
   ]
  },
  {
   "cell_type": "code",
   "execution_count": 4,
   "metadata": {},
   "outputs": [
    {
     "data": {
      "text/html": [
       "<div>\n",
       "<style scoped>\n",
       "    .dataframe tbody tr th:only-of-type {\n",
       "        vertical-align: middle;\n",
       "    }\n",
       "\n",
       "    .dataframe tbody tr th {\n",
       "        vertical-align: top;\n",
       "    }\n",
       "\n",
       "    .dataframe thead th {\n",
       "        text-align: right;\n",
       "    }\n",
       "</style>\n",
       "<table border=\"1\" class=\"dataframe\">\n",
       "  <thead>\n",
       "    <tr style=\"text-align: right;\">\n",
       "      <th></th>\n",
       "      <th>encounter_timestamp</th>\n",
       "      <th>park_area_id</th>\n",
       "      <th>park_district</th>\n",
       "      <th>park_borough</th>\n",
       "      <th>patroncount</th>\n",
       "      <th>in_playground</th>\n",
       "      <th>action_taken</th>\n",
       "      <th>amenity</th>\n",
       "    </tr>\n",
       "  </thead>\n",
       "  <tbody>\n",
       "    <tr>\n",
       "      <th>0</th>\n",
       "      <td>2020-07-07 14:33:23</td>\n",
       "      <td>X179</td>\n",
       "      <td>X-02</td>\n",
       "      <td>Bronx</td>\n",
       "      <td>50</td>\n",
       "      <td>True</td>\n",
       "      <td>Approached the crowd; they ignored the employee</td>\n",
       "      <td>Basketball court</td>\n",
       "    </tr>\n",
       "    <tr>\n",
       "      <th>1</th>\n",
       "      <td>2020-07-05 10:40:24</td>\n",
       "      <td>B247</td>\n",
       "      <td>B-18</td>\n",
       "      <td>Brooklyn</td>\n",
       "      <td>50</td>\n",
       "      <td>False</td>\n",
       "      <td>Approached the crowd; they ignored the employee</td>\n",
       "      <td>Baseball field</td>\n",
       "    </tr>\n",
       "    <tr>\n",
       "      <th>2</th>\n",
       "      <td>2020-07-04 12:56:31</td>\n",
       "      <td>B247</td>\n",
       "      <td>B-18</td>\n",
       "      <td>Brooklyn</td>\n",
       "      <td>20</td>\n",
       "      <td>False</td>\n",
       "      <td>Approached the crowd; they ignored the employee</td>\n",
       "      <td>Bench/sitting area</td>\n",
       "    </tr>\n",
       "    <tr>\n",
       "      <th>3</th>\n",
       "      <td>2020-07-03 22:16:52</td>\n",
       "      <td>Q377</td>\n",
       "      <td>Q-06</td>\n",
       "      <td>Queens</td>\n",
       "      <td>75</td>\n",
       "      <td>False</td>\n",
       "      <td>Did not approach the crowd; the crowd remains</td>\n",
       "      <td>Soccer field</td>\n",
       "    </tr>\n",
       "    <tr>\n",
       "      <th>4</th>\n",
       "      <td>2020-07-02 15:11:30</td>\n",
       "      <td>B018</td>\n",
       "      <td>B-18</td>\n",
       "      <td>Brooklyn</td>\n",
       "      <td>75</td>\n",
       "      <td>False</td>\n",
       "      <td>Approached the crowd; they ignored the employee</td>\n",
       "      <td>Open field/multi-purpose play area</td>\n",
       "    </tr>\n",
       "    <tr>\n",
       "      <th>5</th>\n",
       "      <td>2020-07-01 11:35:04</td>\n",
       "      <td>X039-ZN01</td>\n",
       "      <td>X-15</td>\n",
       "      <td>Bronx</td>\n",
       "      <td>200</td>\n",
       "      <td>False</td>\n",
       "      <td>Did not approach the crowd; the crowd remains</td>\n",
       "      <td>Track/field area</td>\n",
       "    </tr>\n",
       "    <tr>\n",
       "      <th>6</th>\n",
       "      <td>2020-06-30 08:15:21</td>\n",
       "      <td>M029-01</td>\n",
       "      <td>M-12</td>\n",
       "      <td>Manhattan</td>\n",
       "      <td>12</td>\n",
       "      <td>True</td>\n",
       "      <td>Did not approach the crowd; the crowd remains</td>\n",
       "      <td>Adult fitness equipment</td>\n",
       "    </tr>\n",
       "    <tr>\n",
       "      <th>7</th>\n",
       "      <td>2020-06-29 11:15:32</td>\n",
       "      <td>Q357B01</td>\n",
       "      <td>Q-06</td>\n",
       "      <td>Queens</td>\n",
       "      <td>1</td>\n",
       "      <td>False</td>\n",
       "      <td>Approached the crowd; they complied with instr...</td>\n",
       "      <td>Handall court</td>\n",
       "    </tr>\n",
       "    <tr>\n",
       "      <th>8</th>\n",
       "      <td>2020-06-29 07:35:49</td>\n",
       "      <td>M144-ZN04</td>\n",
       "      <td>M-03</td>\n",
       "      <td>Manhattan</td>\n",
       "      <td>15</td>\n",
       "      <td>False</td>\n",
       "      <td>Approached the crowd; they ignored the employee</td>\n",
       "      <td>Baseball field</td>\n",
       "    </tr>\n",
       "    <tr>\n",
       "      <th>9</th>\n",
       "      <td>2020-06-28 20:43:04</td>\n",
       "      <td>X092-09</td>\n",
       "      <td>X-13</td>\n",
       "      <td>Bronx</td>\n",
       "      <td>50</td>\n",
       "      <td>True</td>\n",
       "      <td>Did not approach the crowd; the crowd remains</td>\n",
       "      <td>Playground</td>\n",
       "    </tr>\n",
       "  </tbody>\n",
       "</table>\n",
       "</div>"
      ],
      "text/plain": [
       "  encounter_timestamp park_area_id park_district park_borough  patroncount  \\\n",
       "0 2020-07-07 14:33:23         X179          X-02        Bronx           50   \n",
       "1 2020-07-05 10:40:24         B247          B-18     Brooklyn           50   \n",
       "2 2020-07-04 12:56:31         B247          B-18     Brooklyn           20   \n",
       "3 2020-07-03 22:16:52         Q377          Q-06       Queens           75   \n",
       "4 2020-07-02 15:11:30         B018          B-18     Brooklyn           75   \n",
       "5 2020-07-01 11:35:04    X039-ZN01          X-15        Bronx          200   \n",
       "6 2020-06-30 08:15:21      M029-01          M-12    Manhattan           12   \n",
       "7 2020-06-29 11:15:32      Q357B01          Q-06       Queens            1   \n",
       "8 2020-06-29 07:35:49    M144-ZN04          M-03    Manhattan           15   \n",
       "9 2020-06-28 20:43:04      X092-09          X-13        Bronx           50   \n",
       "\n",
       "   in_playground                                       action_taken  \\\n",
       "0           True    Approached the crowd; they ignored the employee   \n",
       "1          False    Approached the crowd; they ignored the employee   \n",
       "2          False    Approached the crowd; they ignored the employee   \n",
       "3          False      Did not approach the crowd; the crowd remains   \n",
       "4          False    Approached the crowd; they ignored the employee   \n",
       "5          False      Did not approach the crowd; the crowd remains   \n",
       "6           True      Did not approach the crowd; the crowd remains   \n",
       "7          False  Approached the crowd; they complied with instr...   \n",
       "8          False    Approached the crowd; they ignored the employee   \n",
       "9           True      Did not approach the crowd; the crowd remains   \n",
       "\n",
       "                              amenity  \n",
       "0                    Basketball court  \n",
       "1                      Baseball field  \n",
       "2                  Bench/sitting area  \n",
       "3                        Soccer field  \n",
       "4  Open field/multi-purpose play area  \n",
       "5                    Track/field area  \n",
       "6             Adult fitness equipment  \n",
       "7                       Handall court  \n",
       "8                      Baseball field  \n",
       "9                          Playground  "
      ]
     },
     "execution_count": 4,
     "metadata": {},
     "output_type": "execute_result"
    }
   ],
   "source": [
    "# inspecting data and making sure parse dates worked properly:\n",
    "\n",
    "raw_data.head(10)"
   ]
  },
  {
   "cell_type": "code",
   "execution_count": 5,
   "metadata": {},
   "outputs": [],
   "source": [
    "# deleting any rows that contain a gathering of less than 3 ppl or over 50 ppl\n",
    "# (an employee cannot count and/or approach a gathering of more than 50)"
   ]
  },
  {
   "cell_type": "code",
   "execution_count": 6,
   "metadata": {},
   "outputs": [
    {
     "name": "stdout",
     "output_type": "stream",
     "text": [
      "<class 'pandas.core.frame.DataFrame'>\n",
      "RangeIndex: 1869 entries, 0 to 1868\n",
      "Data columns (total 8 columns):\n",
      " #   Column               Non-Null Count  Dtype         \n",
      "---  ------               --------------  -----         \n",
      " 0   encounter_timestamp  1869 non-null   datetime64[ns]\n",
      " 1   park_area_id         1869 non-null   object        \n",
      " 2   park_district        1869 non-null   object        \n",
      " 3   park_borough         1869 non-null   object        \n",
      " 4   patroncount          1869 non-null   int64         \n",
      " 5   in_playground        1869 non-null   bool          \n",
      " 6   action_taken         1869 non-null   object        \n",
      " 7   amenity              1182 non-null   object        \n",
      "dtypes: bool(1), datetime64[ns](1), int64(1), object(5)\n",
      "memory usage: 104.2+ KB\n"
     ]
    }
   ],
   "source": [
    "# Checking data types for each column:\n",
    "\n",
    "raw_data.info()"
   ]
  },
  {
   "cell_type": "code",
   "execution_count": 7,
   "metadata": {},
   "outputs": [
    {
     "data": {
      "text/plain": [
       "(119, 244)"
      ]
     },
     "execution_count": 7,
     "metadata": {},
     "output_type": "execute_result"
    }
   ],
   "source": [
    "# Checking the number of observations that need to be dropped:\n",
    "\n",
    "(raw_data['patroncount'] < 3).sum(), (raw_data['patroncount'] > 51).sum()"
   ]
  },
  {
   "cell_type": "code",
   "execution_count": 8,
   "metadata": {},
   "outputs": [
    {
     "data": {
      "text/plain": [
       "(6.367041198501873, 13.055109684323169)"
      ]
     },
     "execution_count": 8,
     "metadata": {},
     "output_type": "execute_result"
    }
   ],
   "source": [
    "# Checking the proportion of observations that need to be dropped:\n",
    "\n",
    "(raw_data['patroncount'] < 3).sum()/len(raw_data) * 100, (raw_data['patroncount'] > 51).sum()/len(raw_data) * 100"
   ]
  },
  {
   "cell_type": "code",
   "execution_count": 9,
   "metadata": {},
   "outputs": [],
   "source": [
    "# 6% were gathering of less than 3 ppl\n",
    "# 13% were gathering of more than 50 ppl"
   ]
  },
  {
   "cell_type": "code",
   "execution_count": 10,
   "metadata": {},
   "outputs": [
    {
     "name": "stdout",
     "output_type": "stream",
     "text": [
      "count     244.00000\n",
      "mean      165.52459\n",
      "std       399.46138\n",
      "min        53.00000\n",
      "25%        75.00000\n",
      "50%       100.00000\n",
      "75%       200.00000\n",
      "max      6000.00000\n",
      "Name: patroncount, dtype: float64\n",
      "Open field/multi-purpose play area    43\n",
      "Walking path                          33\n",
      "Soccer field                          30\n",
      "Track/field area                      28\n",
      "Baseball field                        27\n",
      "Playground                            13\n",
      "Bench/sitting area                    11\n",
      "Adult fitness equipment                9\n",
      "Basketball court                       6\n",
      "Handall court                          1\n",
      "Name: amenity, dtype: int64\n"
     ]
    }
   ],
   "source": [
    "# Checking what are these gatherings of over 50 ppl:\n",
    "\n",
    "print(raw_data['patroncount'][raw_data['patroncount'] > 51].describe()),\n",
    "print(raw_data[raw_data['patroncount'] > 51]['amenity'].value_counts())"
   ]
  },
  {
   "cell_type": "code",
   "execution_count": 11,
   "metadata": {},
   "outputs": [],
   "source": [
    "# dropping too samll and too big gatherings:\n",
    "\n",
    "data = raw_data[(raw_data['patroncount'] < 51) & \n",
    "                (raw_data['patroncount'] > 2) ] "
   ]
  },
  {
   "cell_type": "code",
   "execution_count": 12,
   "metadata": {},
   "outputs": [
    {
     "data": {
      "text/plain": [
       "(1506, 1869)"
      ]
     },
     "execution_count": 12,
     "metadata": {},
     "output_type": "execute_result"
    }
   ],
   "source": [
    "# Verifying that the new dataset length makes sense:\n",
    "\n",
    "len(data), len(raw_data)"
   ]
  },
  {
   "cell_type": "code",
   "execution_count": 13,
   "metadata": {},
   "outputs": [
    {
     "data": {
      "text/plain": [
       "Queens           35.856574\n",
       "Manhattan        24.435591\n",
       "Brooklyn         14.741036\n",
       "Bronx            14.010624\n",
       "Staten Island    10.956175\n",
       "Name: park_borough, dtype: float64"
      ]
     },
     "execution_count": 13,
     "metadata": {},
     "output_type": "execute_result"
    }
   ],
   "source": [
    "# checking distribution of cases by borough:\n",
    "\n",
    "data['park_borough'].value_counts()/len(data) * 100"
   ]
  },
  {
   "cell_type": "code",
   "execution_count": 14,
   "metadata": {},
   "outputs": [],
   "source": [
    "# comparing the % of cases by borough to the % of population in each borough:\n",
    "# population data is from \"open nyc\": https://data.cityofnewyork.us/City-Government/2020-population/t8c6-3i7b\n",
    "\n",
    "pop = pd.read_csv(\"2020_population_original.csv\")"
   ]
  },
  {
   "cell_type": "code",
   "execution_count": 15,
   "metadata": {},
   "outputs": [
    {
     "data": {
      "text/plain": [
       "([2330295, 1638281, 2648452, 1446788, 487155], 8550971)"
      ]
     },
     "execution_count": 15,
     "metadata": {},
     "output_type": "execute_result"
    }
   ],
   "source": [
    "pop = pop.apply(lambda x: x.str.strip() if x.dtype == \"object\" else x)\n",
    "\n",
    "pop_queens = pop[(pop['Borough'] == 'Queens') &\n",
    "             (pop['Age Group'] == 'Total')]['2020'].values[0]\n",
    "pop_manhattan = pop[(pop['Borough'] == 'Manhattan') &\n",
    "                    (pop['Age Group'] == 'Total')]['2020'].values[0]\n",
    "pop_brooklyn = pop[(pop['Borough'] == 'Brooklyn') &\n",
    "                   (pop['Age Group'] == 'Total')]['2020'].values[0]\n",
    "pop_bronx = pop[(pop['Borough'] == 'Bronx') &\n",
    "                (pop['Age Group'] == 'Total')]['2020'].values[0]\n",
    "pop_si = pop[(pop['Borough'] == 'Staten Island') &\n",
    "             (pop['Age Group'] == 'Total')]['2020'].values[0]\n",
    "\n",
    "\n",
    "pop_by_borough = [pop_queens,pop_manhattan,pop_brooklyn,pop_bronx,pop_si,]\n",
    "total_pop = np.array(pop_by_borough).sum()\n",
    "pop_by_borough, total_pop\n"
   ]
  },
  {
   "cell_type": "code",
   "execution_count": 16,
   "metadata": {},
   "outputs": [
    {
     "data": {
      "text/plain": [
       "Queens           -8.604756\n",
       "Manhattan        -5.276586\n",
       "Brooklyn         16.231493\n",
       "Bronx             2.908951\n",
       "Staten Island    -5.259103\n",
       "Name: park_borough, dtype: float64"
      ]
     },
     "execution_count": 16,
     "metadata": {},
     "output_type": "execute_result"
    }
   ],
   "source": [
    "# comparing % of population by borough to % of cases by borough:\n",
    "\n",
    "pop_by_borough/total_pop * 100 - data['park_borough'].value_counts()/len(data) * 100 \n",
    "\n",
    "# about 10% change, not too bad. \n",
    "# Need to mention it in the discussion. Could be attributed to: \n",
    "                                                                #1. more policing (more employees)\n",
    "                                                                #2. change in population prefrences\n",
    "                                                                #3. more parks available "
   ]
  },
  {
   "cell_type": "code",
   "execution_count": 17,
   "metadata": {},
   "outputs": [
    {
     "data": {
      "text/plain": [
       "3     381\n",
       "4     565\n",
       "5     292\n",
       "6     248\n",
       "7      15\n",
       "8       2\n",
       "9       2\n",
       "10      1\n",
       "Name: encounter_timestamp, dtype: int64"
      ]
     },
     "execution_count": 17,
     "metadata": {},
     "output_type": "execute_result"
    }
   ],
   "source": [
    "# inspecting how many reports on gathering each month:\n",
    "\n",
    "data['encounter_timestamp'].dt.month.value_counts().sort_index()"
   ]
  },
  {
   "cell_type": "code",
   "execution_count": 18,
   "metadata": {},
   "outputs": [],
   "source": [
    "# we can only use march, april, may and june.\n",
    "# need to mention in discussion that collection stopped in July."
   ]
  },
  {
   "cell_type": "code",
   "execution_count": 19,
   "metadata": {},
   "outputs": [
    {
     "data": {
      "text/plain": [
       "(1486, 20)"
      ]
     },
     "execution_count": 19,
     "metadata": {},
     "output_type": "execute_result"
    }
   ],
   "source": [
    "# checking numbers that would be dropped:\n",
    "\n",
    "len(data[data['encounter_timestamp'].dt.month < 7]), len(data[data['encounter_timestamp'].dt.month > 6])"
   ]
  },
  {
   "cell_type": "code",
   "execution_count": 20,
   "metadata": {},
   "outputs": [],
   "source": [
    "# dropping:\n",
    "\n",
    "data = data[data['encounter_timestamp'].dt.month < 7]"
   ]
  },
  {
   "cell_type": "code",
   "execution_count": 21,
   "metadata": {},
   "outputs": [
    {
     "data": {
      "text/plain": [
       "1486"
      ]
     },
     "execution_count": 21,
     "metadata": {},
     "output_type": "execute_result"
    }
   ],
   "source": [
    "# Making sure dropping went poperly:\n",
    "\n",
    "len(data)"
   ]
  },
  {
   "cell_type": "code",
   "execution_count": 22,
   "metadata": {},
   "outputs": [],
   "source": [
    "# setting time as index and sorting:\n",
    "\n",
    "data = data.sort_values('encounter_timestamp')"
   ]
  },
  {
   "cell_type": "code",
   "execution_count": 23,
   "metadata": {},
   "outputs": [
    {
     "data": {
      "text/html": [
       "<div>\n",
       "<style scoped>\n",
       "    .dataframe tbody tr th:only-of-type {\n",
       "        vertical-align: middle;\n",
       "    }\n",
       "\n",
       "    .dataframe tbody tr th {\n",
       "        vertical-align: top;\n",
       "    }\n",
       "\n",
       "    .dataframe thead th {\n",
       "        text-align: right;\n",
       "    }\n",
       "</style>\n",
       "<table border=\"1\" class=\"dataframe\">\n",
       "  <thead>\n",
       "    <tr style=\"text-align: right;\">\n",
       "      <th></th>\n",
       "      <th>encounter_timestamp</th>\n",
       "      <th>park_area_id</th>\n",
       "      <th>park_district</th>\n",
       "      <th>park_borough</th>\n",
       "      <th>patroncount</th>\n",
       "      <th>in_playground</th>\n",
       "      <th>action_taken</th>\n",
       "      <th>amenity</th>\n",
       "    </tr>\n",
       "  </thead>\n",
       "  <tbody>\n",
       "    <tr>\n",
       "      <th>1842</th>\n",
       "      <td>2020-03-25 08:07:40</td>\n",
       "      <td>M108T01</td>\n",
       "      <td>M-15</td>\n",
       "      <td>Manhattan</td>\n",
       "      <td>17</td>\n",
       "      <td>True</td>\n",
       "      <td>Approached the crowd; they complied with instr...</td>\n",
       "      <td>NaN</td>\n",
       "    </tr>\n",
       "    <tr>\n",
       "      <th>1841</th>\n",
       "      <td>2020-03-25 10:44:20</td>\n",
       "      <td>R030-099</td>\n",
       "      <td>R-02</td>\n",
       "      <td>Staten Island</td>\n",
       "      <td>18</td>\n",
       "      <td>False</td>\n",
       "      <td>Approached the crowd; they ignored the employee</td>\n",
       "      <td>NaN</td>\n",
       "    </tr>\n",
       "    <tr>\n",
       "      <th>1840</th>\n",
       "      <td>2020-03-25 10:49:03</td>\n",
       "      <td>R045-01</td>\n",
       "      <td>R-02</td>\n",
       "      <td>Staten Island</td>\n",
       "      <td>8</td>\n",
       "      <td>True</td>\n",
       "      <td>Approached the crowd; they ignored the employee</td>\n",
       "      <td>NaN</td>\n",
       "    </tr>\n",
       "    <tr>\n",
       "      <th>1839</th>\n",
       "      <td>2020-03-25 10:49:53</td>\n",
       "      <td>R005</td>\n",
       "      <td>R-01</td>\n",
       "      <td>Staten Island</td>\n",
       "      <td>6</td>\n",
       "      <td>False</td>\n",
       "      <td>Did not approach the crowd; the crowd remains</td>\n",
       "      <td>NaN</td>\n",
       "    </tr>\n",
       "    <tr>\n",
       "      <th>1838</th>\n",
       "      <td>2020-03-25 10:54:28</td>\n",
       "      <td>R005-ZN01</td>\n",
       "      <td>R-01</td>\n",
       "      <td>Staten Island</td>\n",
       "      <td>10</td>\n",
       "      <td>False</td>\n",
       "      <td>Did not approach the crowd; the crowd remains</td>\n",
       "      <td>NaN</td>\n",
       "    </tr>\n",
       "    <tr>\n",
       "      <th>...</th>\n",
       "      <td>...</td>\n",
       "      <td>...</td>\n",
       "      <td>...</td>\n",
       "      <td>...</td>\n",
       "      <td>...</td>\n",
       "      <td>...</td>\n",
       "      <td>...</td>\n",
       "      <td>...</td>\n",
       "    </tr>\n",
       "    <tr>\n",
       "      <th>18</th>\n",
       "      <td>2020-06-28 12:17:33</td>\n",
       "      <td>M144-ZN04</td>\n",
       "      <td>M-03</td>\n",
       "      <td>Manhattan</td>\n",
       "      <td>25</td>\n",
       "      <td>False</td>\n",
       "      <td>Approached the crowd; they ignored the employee</td>\n",
       "      <td>Baseball field</td>\n",
       "    </tr>\n",
       "    <tr>\n",
       "      <th>17</th>\n",
       "      <td>2020-06-28 12:18:20</td>\n",
       "      <td>M144-ZN06</td>\n",
       "      <td>M-03</td>\n",
       "      <td>Manhattan</td>\n",
       "      <td>20</td>\n",
       "      <td>False</td>\n",
       "      <td>Approached the crowd; they ignored the employee</td>\n",
       "      <td>Open field/multi-purpose play area</td>\n",
       "    </tr>\n",
       "    <tr>\n",
       "      <th>9</th>\n",
       "      <td>2020-06-28 20:43:04</td>\n",
       "      <td>X092-09</td>\n",
       "      <td>X-13</td>\n",
       "      <td>Bronx</td>\n",
       "      <td>50</td>\n",
       "      <td>True</td>\n",
       "      <td>Did not approach the crowd; the crowd remains</td>\n",
       "      <td>Playground</td>\n",
       "    </tr>\n",
       "    <tr>\n",
       "      <th>8</th>\n",
       "      <td>2020-06-29 07:35:49</td>\n",
       "      <td>M144-ZN04</td>\n",
       "      <td>M-03</td>\n",
       "      <td>Manhattan</td>\n",
       "      <td>15</td>\n",
       "      <td>False</td>\n",
       "      <td>Approached the crowd; they ignored the employee</td>\n",
       "      <td>Baseball field</td>\n",
       "    </tr>\n",
       "    <tr>\n",
       "      <th>6</th>\n",
       "      <td>2020-06-30 08:15:21</td>\n",
       "      <td>M029-01</td>\n",
       "      <td>M-12</td>\n",
       "      <td>Manhattan</td>\n",
       "      <td>12</td>\n",
       "      <td>True</td>\n",
       "      <td>Did not approach the crowd; the crowd remains</td>\n",
       "      <td>Adult fitness equipment</td>\n",
       "    </tr>\n",
       "  </tbody>\n",
       "</table>\n",
       "<p>1486 rows × 8 columns</p>\n",
       "</div>"
      ],
      "text/plain": [
       "     encounter_timestamp park_area_id park_district   park_borough  \\\n",
       "1842 2020-03-25 08:07:40      M108T01          M-15      Manhattan   \n",
       "1841 2020-03-25 10:44:20     R030-099          R-02  Staten Island   \n",
       "1840 2020-03-25 10:49:03      R045-01          R-02  Staten Island   \n",
       "1839 2020-03-25 10:49:53         R005          R-01  Staten Island   \n",
       "1838 2020-03-25 10:54:28    R005-ZN01          R-01  Staten Island   \n",
       "...                  ...          ...           ...            ...   \n",
       "18   2020-06-28 12:17:33    M144-ZN04          M-03      Manhattan   \n",
       "17   2020-06-28 12:18:20    M144-ZN06          M-03      Manhattan   \n",
       "9    2020-06-28 20:43:04      X092-09          X-13          Bronx   \n",
       "8    2020-06-29 07:35:49    M144-ZN04          M-03      Manhattan   \n",
       "6    2020-06-30 08:15:21      M029-01          M-12      Manhattan   \n",
       "\n",
       "      patroncount  in_playground  \\\n",
       "1842           17           True   \n",
       "1841           18          False   \n",
       "1840            8           True   \n",
       "1839            6          False   \n",
       "1838           10          False   \n",
       "...           ...            ...   \n",
       "18             25          False   \n",
       "17             20          False   \n",
       "9              50           True   \n",
       "8              15          False   \n",
       "6              12           True   \n",
       "\n",
       "                                           action_taken  \\\n",
       "1842  Approached the crowd; they complied with instr...   \n",
       "1841    Approached the crowd; they ignored the employee   \n",
       "1840    Approached the crowd; they ignored the employee   \n",
       "1839      Did not approach the crowd; the crowd remains   \n",
       "1838      Did not approach the crowd; the crowd remains   \n",
       "...                                                 ...   \n",
       "18      Approached the crowd; they ignored the employee   \n",
       "17      Approached the crowd; they ignored the employee   \n",
       "9         Did not approach the crowd; the crowd remains   \n",
       "8       Approached the crowd; they ignored the employee   \n",
       "6         Did not approach the crowd; the crowd remains   \n",
       "\n",
       "                                 amenity  \n",
       "1842                                 NaN  \n",
       "1841                                 NaN  \n",
       "1840                                 NaN  \n",
       "1839                                 NaN  \n",
       "1838                                 NaN  \n",
       "...                                  ...  \n",
       "18                        Baseball field  \n",
       "17    Open field/multi-purpose play area  \n",
       "9                             Playground  \n",
       "8                         Baseball field  \n",
       "6                Adult fitness equipment  \n",
       "\n",
       "[1486 rows x 8 columns]"
      ]
     },
     "execution_count": 23,
     "metadata": {},
     "output_type": "execute_result"
    }
   ],
   "source": [
    "#inspecting data:\n",
    "\n",
    "data"
   ]
  },
  {
   "cell_type": "code",
   "execution_count": 24,
   "metadata": {},
   "outputs": [],
   "source": [
    "# dropping subarea of park:\n",
    "\n",
    "data['park_area_id'] = data['park_area_id'].apply(lambda x: x.split(\"-\")[0])"
   ]
  },
  {
   "cell_type": "code",
   "execution_count": 25,
   "metadata": {},
   "outputs": [
    {
     "data": {
      "text/plain": [
       "(373, 1486)"
      ]
     },
     "execution_count": 25,
     "metadata": {},
     "output_type": "execute_result"
    }
   ],
   "source": [
    "len(data['park_area_id'].unique()), len(data['park_area_id'])"
   ]
  },
  {
   "cell_type": "code",
   "execution_count": 26,
   "metadata": {},
   "outputs": [],
   "source": [
    "# merging data with location of parks csv:\n",
    "\n",
    "locations_directory = pd.read_csv('../output/imap.csv')"
   ]
  },
  {
   "cell_type": "code",
   "execution_count": 27,
   "metadata": {},
   "outputs": [],
   "source": [
    "data = data.merge(locations_directory, on = 'park_area_id')"
   ]
  },
  {
   "cell_type": "code",
   "execution_count": 28,
   "metadata": {},
   "outputs": [],
   "source": [
    "data = data.rename(columns = {'encounter_timestamp':'timestamp',\n",
    "                              'facility__Name':'name',\n",
    "                              'facility__Location':'location',\n",
    "                              'facility__Zip':'zip',\n",
    "                              'ADDRESS_Ext':'address'})"
   ]
  },
  {
   "cell_type": "code",
   "execution_count": 29,
   "metadata": {},
   "outputs": [],
   "source": [
    "data.drop(columns = 'Unnamed: 0', inplace = True)"
   ]
  },
  {
   "cell_type": "code",
   "execution_count": 30,
   "metadata": {},
   "outputs": [
    {
     "data": {
      "text/plain": [
       "1486"
      ]
     },
     "execution_count": 30,
     "metadata": {},
     "output_type": "execute_result"
    }
   ],
   "source": [
    "len(data)"
   ]
  },
  {
   "cell_type": "code",
   "execution_count": 31,
   "metadata": {},
   "outputs": [],
   "source": [
    "data.to_csv('../output/clean_parks_data.csv')"
   ]
  }
 ],
 "metadata": {
  "kernelspec": {
   "display_name": "Python 3",
   "language": "python",
   "name": "python3"
  },
  "language_info": {
   "codemirror_mode": {
    "name": "ipython",
    "version": 3
   },
   "file_extension": ".py",
   "mimetype": "text/x-python",
   "name": "python",
   "nbconvert_exporter": "python",
   "pygments_lexer": "ipython3",
   "version": "3.7.4"
  }
 },
 "nbformat": 4,
 "nbformat_minor": 4
}
